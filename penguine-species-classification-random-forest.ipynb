{
 "cells": [
  {
   "cell_type": "code",
   "execution_count": 1,
   "id": "6a58b12e",
   "metadata": {
    "_cell_guid": "b1076dfc-b9ad-4769-8c92-a6c4dae69d19",
    "_uuid": "8f2839f25d086af736a60e9eeb907d3b93b6e0e5",
    "execution": {
     "iopub.execute_input": "2025-07-31T04:21:08.952543Z",
     "iopub.status.busy": "2025-07-31T04:21:08.952345Z",
     "iopub.status.idle": "2025-07-31T04:21:10.387177Z",
     "shell.execute_reply": "2025-07-31T04:21:10.386330Z"
    },
    "papermill": {
     "duration": 1.44072,
     "end_time": "2025-07-31T04:21:10.388435",
     "exception": false,
     "start_time": "2025-07-31T04:21:08.947715",
     "status": "completed"
    },
    "tags": []
   },
   "outputs": [
    {
     "name": "stdout",
     "output_type": "stream",
     "text": [
      "/kaggle/input/palmer-archipelago-antarctica-penguin-data/penguins_size.csv\n",
      "/kaggle/input/palmer-archipelago-antarctica-penguin-data/penguins_lter.csv\n"
     ]
    }
   ],
   "source": [
    "# This Python 3 environment comes with many helpful analytics libraries installed\n",
    "# It is defined by the kaggle/python Docker image: https://github.com/kaggle/docker-python\n",
    "# For example, here's several helpful packages to load\n",
    "\n",
    "import numpy as np # linear algebra\n",
    "import pandas as pd # data processing, CSV file I/O (e.g. pd.read_csv)\n",
    "\n",
    "# Input data files are available in the read-only \"../input/\" directory\n",
    "# For example, running this (by clicking run or pressing Shift+Enter) will list all files under the input directory\n",
    "\n",
    "import os\n",
    "for dirname, _, filenames in os.walk('/kaggle/input'):\n",
    "    for filename in filenames:\n",
    "        print(os.path.join(dirname, filename))\n",
    "\n",
    "# You can write up to 20GB to the current directory (/kaggle/working/) that gets preserved as output when you create a version using \"Save & Run All\" \n",
    "# You can also write temporary files to /kaggle/temp/, but they won't be saved outside of the current session"
   ]
  },
  {
   "cell_type": "code",
   "execution_count": 2,
   "id": "64190ee6",
   "metadata": {
    "execution": {
     "iopub.execute_input": "2025-07-31T04:21:10.397502Z",
     "iopub.status.busy": "2025-07-31T04:21:10.396800Z",
     "iopub.status.idle": "2025-07-31T04:21:10.416919Z",
     "shell.execute_reply": "2025-07-31T04:21:10.416149Z"
    },
    "papermill": {
     "duration": 0.026314,
     "end_time": "2025-07-31T04:21:10.418674",
     "exception": false,
     "start_time": "2025-07-31T04:21:10.392360",
     "status": "completed"
    },
    "tags": []
   },
   "outputs": [],
   "source": [
    "df = pd.read_csv('/kaggle/input/palmer-archipelago-antarctica-penguin-data/penguins_size.csv')"
   ]
  },
  {
   "cell_type": "code",
   "execution_count": 3,
   "id": "bb6c50c8",
   "metadata": {
    "execution": {
     "iopub.execute_input": "2025-07-31T04:21:10.433046Z",
     "iopub.status.busy": "2025-07-31T04:21:10.432655Z",
     "iopub.status.idle": "2025-07-31T04:21:10.469030Z",
     "shell.execute_reply": "2025-07-31T04:21:10.467821Z"
    },
    "papermill": {
     "duration": 0.046408,
     "end_time": "2025-07-31T04:21:10.470564",
     "exception": false,
     "start_time": "2025-07-31T04:21:10.424156",
     "status": "completed"
    },
    "tags": []
   },
   "outputs": [
    {
     "name": "stderr",
     "output_type": "stream",
     "text": [
      "/usr/local/lib/python3.11/dist-packages/pandas/io/formats/format.py:1458: RuntimeWarning: invalid value encountered in greater\n",
      "  has_large_values = (abs_vals > 1e6).any()\n",
      "/usr/local/lib/python3.11/dist-packages/pandas/io/formats/format.py:1459: RuntimeWarning: invalid value encountered in less\n",
      "  has_small_values = ((abs_vals < 10 ** (-self.digits)) & (abs_vals > 0)).any()\n",
      "/usr/local/lib/python3.11/dist-packages/pandas/io/formats/format.py:1459: RuntimeWarning: invalid value encountered in greater\n",
      "  has_small_values = ((abs_vals < 10 ** (-self.digits)) & (abs_vals > 0)).any()\n"
     ]
    },
    {
     "data": {
      "text/html": [
       "<div>\n",
       "<style scoped>\n",
       "    .dataframe tbody tr th:only-of-type {\n",
       "        vertical-align: middle;\n",
       "    }\n",
       "\n",
       "    .dataframe tbody tr th {\n",
       "        vertical-align: top;\n",
       "    }\n",
       "\n",
       "    .dataframe thead th {\n",
       "        text-align: right;\n",
       "    }\n",
       "</style>\n",
       "<table border=\"1\" class=\"dataframe\">\n",
       "  <thead>\n",
       "    <tr style=\"text-align: right;\">\n",
       "      <th></th>\n",
       "      <th>species</th>\n",
       "      <th>island</th>\n",
       "      <th>culmen_length_mm</th>\n",
       "      <th>culmen_depth_mm</th>\n",
       "      <th>flipper_length_mm</th>\n",
       "      <th>body_mass_g</th>\n",
       "      <th>sex</th>\n",
       "    </tr>\n",
       "  </thead>\n",
       "  <tbody>\n",
       "    <tr>\n",
       "      <th>0</th>\n",
       "      <td>Adelie</td>\n",
       "      <td>Torgersen</td>\n",
       "      <td>39.1</td>\n",
       "      <td>18.7</td>\n",
       "      <td>181.0</td>\n",
       "      <td>3750.0</td>\n",
       "      <td>MALE</td>\n",
       "    </tr>\n",
       "    <tr>\n",
       "      <th>1</th>\n",
       "      <td>Adelie</td>\n",
       "      <td>Torgersen</td>\n",
       "      <td>39.5</td>\n",
       "      <td>17.4</td>\n",
       "      <td>186.0</td>\n",
       "      <td>3800.0</td>\n",
       "      <td>FEMALE</td>\n",
       "    </tr>\n",
       "    <tr>\n",
       "      <th>2</th>\n",
       "      <td>Adelie</td>\n",
       "      <td>Torgersen</td>\n",
       "      <td>40.3</td>\n",
       "      <td>18.0</td>\n",
       "      <td>195.0</td>\n",
       "      <td>3250.0</td>\n",
       "      <td>FEMALE</td>\n",
       "    </tr>\n",
       "    <tr>\n",
       "      <th>3</th>\n",
       "      <td>Adelie</td>\n",
       "      <td>Torgersen</td>\n",
       "      <td>NaN</td>\n",
       "      <td>NaN</td>\n",
       "      <td>NaN</td>\n",
       "      <td>NaN</td>\n",
       "      <td>NaN</td>\n",
       "    </tr>\n",
       "    <tr>\n",
       "      <th>4</th>\n",
       "      <td>Adelie</td>\n",
       "      <td>Torgersen</td>\n",
       "      <td>36.7</td>\n",
       "      <td>19.3</td>\n",
       "      <td>193.0</td>\n",
       "      <td>3450.0</td>\n",
       "      <td>FEMALE</td>\n",
       "    </tr>\n",
       "    <tr>\n",
       "      <th>...</th>\n",
       "      <td>...</td>\n",
       "      <td>...</td>\n",
       "      <td>...</td>\n",
       "      <td>...</td>\n",
       "      <td>...</td>\n",
       "      <td>...</td>\n",
       "      <td>...</td>\n",
       "    </tr>\n",
       "    <tr>\n",
       "      <th>339</th>\n",
       "      <td>Gentoo</td>\n",
       "      <td>Biscoe</td>\n",
       "      <td>NaN</td>\n",
       "      <td>NaN</td>\n",
       "      <td>NaN</td>\n",
       "      <td>NaN</td>\n",
       "      <td>NaN</td>\n",
       "    </tr>\n",
       "    <tr>\n",
       "      <th>340</th>\n",
       "      <td>Gentoo</td>\n",
       "      <td>Biscoe</td>\n",
       "      <td>46.8</td>\n",
       "      <td>14.3</td>\n",
       "      <td>215.0</td>\n",
       "      <td>4850.0</td>\n",
       "      <td>FEMALE</td>\n",
       "    </tr>\n",
       "    <tr>\n",
       "      <th>341</th>\n",
       "      <td>Gentoo</td>\n",
       "      <td>Biscoe</td>\n",
       "      <td>50.4</td>\n",
       "      <td>15.7</td>\n",
       "      <td>222.0</td>\n",
       "      <td>5750.0</td>\n",
       "      <td>MALE</td>\n",
       "    </tr>\n",
       "    <tr>\n",
       "      <th>342</th>\n",
       "      <td>Gentoo</td>\n",
       "      <td>Biscoe</td>\n",
       "      <td>45.2</td>\n",
       "      <td>14.8</td>\n",
       "      <td>212.0</td>\n",
       "      <td>5200.0</td>\n",
       "      <td>FEMALE</td>\n",
       "    </tr>\n",
       "    <tr>\n",
       "      <th>343</th>\n",
       "      <td>Gentoo</td>\n",
       "      <td>Biscoe</td>\n",
       "      <td>49.9</td>\n",
       "      <td>16.1</td>\n",
       "      <td>213.0</td>\n",
       "      <td>5400.0</td>\n",
       "      <td>MALE</td>\n",
       "    </tr>\n",
       "  </tbody>\n",
       "</table>\n",
       "<p>344 rows × 7 columns</p>\n",
       "</div>"
      ],
      "text/plain": [
       "    species     island  culmen_length_mm  culmen_depth_mm  flipper_length_mm  \\\n",
       "0    Adelie  Torgersen              39.1             18.7              181.0   \n",
       "1    Adelie  Torgersen              39.5             17.4              186.0   \n",
       "2    Adelie  Torgersen              40.3             18.0              195.0   \n",
       "3    Adelie  Torgersen               NaN              NaN                NaN   \n",
       "4    Adelie  Torgersen              36.7             19.3              193.0   \n",
       "..      ...        ...               ...              ...                ...   \n",
       "339  Gentoo     Biscoe               NaN              NaN                NaN   \n",
       "340  Gentoo     Biscoe              46.8             14.3              215.0   \n",
       "341  Gentoo     Biscoe              50.4             15.7              222.0   \n",
       "342  Gentoo     Biscoe              45.2             14.8              212.0   \n",
       "343  Gentoo     Biscoe              49.9             16.1              213.0   \n",
       "\n",
       "     body_mass_g     sex  \n",
       "0         3750.0    MALE  \n",
       "1         3800.0  FEMALE  \n",
       "2         3250.0  FEMALE  \n",
       "3            NaN     NaN  \n",
       "4         3450.0  FEMALE  \n",
       "..           ...     ...  \n",
       "339          NaN     NaN  \n",
       "340       4850.0  FEMALE  \n",
       "341       5750.0    MALE  \n",
       "342       5200.0  FEMALE  \n",
       "343       5400.0    MALE  \n",
       "\n",
       "[344 rows x 7 columns]"
      ]
     },
     "execution_count": 3,
     "metadata": {},
     "output_type": "execute_result"
    }
   ],
   "source": [
    "df"
   ]
  },
  {
   "cell_type": "code",
   "execution_count": 4,
   "id": "5f716057",
   "metadata": {
    "execution": {
     "iopub.execute_input": "2025-07-31T04:21:10.485911Z",
     "iopub.status.busy": "2025-07-31T04:21:10.485392Z",
     "iopub.status.idle": "2025-07-31T04:21:10.490167Z",
     "shell.execute_reply": "2025-07-31T04:21:10.489405Z"
    },
    "papermill": {
     "duration": 0.01322,
     "end_time": "2025-07-31T04:21:10.491544",
     "exception": false,
     "start_time": "2025-07-31T04:21:10.478324",
     "status": "completed"
    },
    "tags": []
   },
   "outputs": [],
   "source": [
    "def getUniques(df):\n",
    "    for column in df:\n",
    "        print(df[column].unique())"
   ]
  },
  {
   "cell_type": "code",
   "execution_count": 5,
   "id": "5b934a66",
   "metadata": {
    "execution": {
     "iopub.execute_input": "2025-07-31T04:21:10.502357Z",
     "iopub.status.busy": "2025-07-31T04:21:10.502140Z",
     "iopub.status.idle": "2025-07-31T04:21:10.513501Z",
     "shell.execute_reply": "2025-07-31T04:21:10.512764Z"
    },
    "papermill": {
     "duration": 0.016837,
     "end_time": "2025-07-31T04:21:10.514531",
     "exception": false,
     "start_time": "2025-07-31T04:21:10.497694",
     "status": "completed"
    },
    "tags": []
   },
   "outputs": [
    {
     "name": "stdout",
     "output_type": "stream",
     "text": [
      "['Adelie' 'Chinstrap' 'Gentoo']\n",
      "['Torgersen' 'Biscoe' 'Dream']\n",
      "[39.1 39.5 40.3  nan 36.7 39.3 38.9 39.2 34.1 42.  37.8 41.1 38.6 34.6\n",
      " 36.6 38.7 42.5 34.4 46.  37.7 35.9 38.2 38.8 35.3 40.6 40.5 37.9 37.2\n",
      " 40.9 36.4 42.2 37.6 39.8 36.5 40.8 36.  44.1 37.  39.6 37.5 42.3 40.1\n",
      " 35.  34.5 41.4 39.  35.7 41.3 41.6 35.5 41.8 33.5 39.7 45.8 42.8 36.2\n",
      " 42.1 42.9 35.1 37.3 36.3 36.9 38.3 34.  38.1 33.1 43.2 41.  45.6 42.7\n",
      " 40.2 35.2 41.5 38.5 43.1 36.8 35.6 32.1 40.7 46.5 50.  51.3 45.4 52.7\n",
      " 45.2 46.1 46.6 51.7 47.  52.  45.9 50.5 50.3 58.  46.4 49.2 42.4 48.5\n",
      " 50.6 46.7 49.5 52.8 54.2 51.  49.7 47.5 47.6 46.9 53.5 49.  46.2 50.9\n",
      " 45.5 50.8 50.1 51.5 49.8 48.1 51.4 45.7 50.7 52.2 49.3 50.2 51.9 46.8\n",
      " 55.8 43.5 49.6 48.7 43.3 48.4 45.1 46.3 44.5 47.8 48.2 47.3 59.6 49.1\n",
      " 42.6 44.4 44.  45.3 43.6 44.9 45.  43.8 50.4 54.3 47.7 48.6 51.1 52.5\n",
      " 47.4 43.4 52.1 49.4 55.9 47.2 41.7 53.4 55.1 48.8 49.9]\n",
      "[18.7 17.4 18.   nan 19.3 20.6 17.8 19.6 18.1 20.2 17.1 17.3 17.6 21.2\n",
      " 21.1 19.  20.7 18.4 21.5 18.3 19.2 17.2 18.9 18.6 17.9 16.7 17.  20.\n",
      " 18.5 19.1 19.7 16.9 18.8 17.7 19.5 17.5 16.6 18.2 16.2 19.4 16.8 16.1\n",
      " 20.3 16.  16.5 20.5 19.8 15.9 20.1 15.5 19.9 20.8 16.4 13.2 16.3 14.1\n",
      " 15.2 14.5 13.5 14.6 15.3 13.4 15.4 13.7 15.7 15.1 14.3 15.8 13.1 15.\n",
      " 14.2 14.8 13.6 13.9 13.3 14.4 13.8 14.9 15.6 14.  14.7]\n",
      "[181. 186. 195.  nan 193. 190. 180. 182. 191. 198. 185. 197. 184. 194.\n",
      " 174. 189. 187. 183. 172. 178. 188. 196. 179. 200. 192. 202. 205. 208.\n",
      " 203. 199. 176. 210. 201. 212. 206. 207. 211. 230. 218. 215. 219. 209.\n",
      " 214. 216. 213. 217. 221. 222. 220. 225. 224. 231. 229. 223. 228. 226.]\n",
      "[3750. 3800. 3250.   nan 3450. 3650. 3625. 4675. 3475. 4250. 3300. 3700.\n",
      " 3200. 4400. 4500. 3325. 4200. 3400. 3600. 3950. 3550. 3150. 3900. 4150.\n",
      " 4650. 3100. 3000. 4600. 3425. 2975. 3500. 4300. 4050. 2900. 2850. 3350.\n",
      " 4100. 3050. 4450. 4000. 4700. 4350. 3725. 4725. 3075. 2925. 3175. 4775.\n",
      " 3825. 4275. 4075. 3775. 3875. 3275. 4475. 3975. 3525. 3575. 4550. 3850.\n",
      " 4800. 2700. 3675. 5700. 5400. 5200. 5150. 5550. 5850. 6300. 5350. 5000.\n",
      " 5050. 5100. 5650. 5250. 6050. 4950. 4750. 4900. 5300. 4850. 5800. 6000.\n",
      " 5950. 4625. 5450. 5600. 4875. 4925. 4975. 5500. 4575. 4375. 5750.]\n",
      "['MALE' 'FEMALE' nan '.']\n"
     ]
    }
   ],
   "source": [
    "getUniques(df)"
   ]
  },
  {
   "cell_type": "code",
   "execution_count": 6,
   "id": "76f7d07d",
   "metadata": {
    "execution": {
     "iopub.execute_input": "2025-07-31T04:21:10.522600Z",
     "iopub.status.busy": "2025-07-31T04:21:10.522406Z",
     "iopub.status.idle": "2025-07-31T04:21:10.528014Z",
     "shell.execute_reply": "2025-07-31T04:21:10.527337Z"
    },
    "papermill": {
     "duration": 0.010694,
     "end_time": "2025-07-31T04:21:10.529142",
     "exception": false,
     "start_time": "2025-07-31T04:21:10.518448",
     "status": "completed"
    },
    "tags": []
   },
   "outputs": [
    {
     "data": {
      "text/plain": [
       "species               0\n",
       "island                0\n",
       "culmen_length_mm      2\n",
       "culmen_depth_mm       2\n",
       "flipper_length_mm     2\n",
       "body_mass_g           2\n",
       "sex                  10\n",
       "dtype: int64"
      ]
     },
     "execution_count": 6,
     "metadata": {},
     "output_type": "execute_result"
    }
   ],
   "source": [
    "df.isnull().sum()"
   ]
  },
  {
   "cell_type": "code",
   "execution_count": 7,
   "id": "1037c89b",
   "metadata": {
    "execution": {
     "iopub.execute_input": "2025-07-31T04:21:10.536848Z",
     "iopub.status.busy": "2025-07-31T04:21:10.536661Z",
     "iopub.status.idle": "2025-07-31T04:21:10.540521Z",
     "shell.execute_reply": "2025-07-31T04:21:10.539994Z"
    },
    "papermill": {
     "duration": 0.00874,
     "end_time": "2025-07-31T04:21:10.541471",
     "exception": false,
     "start_time": "2025-07-31T04:21:10.532731",
     "status": "completed"
    },
    "tags": []
   },
   "outputs": [],
   "source": [
    "df = df.dropna()"
   ]
  },
  {
   "cell_type": "code",
   "execution_count": 8,
   "id": "ed0d2258",
   "metadata": {
    "execution": {
     "iopub.execute_input": "2025-07-31T04:21:10.550295Z",
     "iopub.status.busy": "2025-07-31T04:21:10.550085Z",
     "iopub.status.idle": "2025-07-31T04:21:10.555494Z",
     "shell.execute_reply": "2025-07-31T04:21:10.554717Z"
    },
    "papermill": {
     "duration": 0.011443,
     "end_time": "2025-07-31T04:21:10.556640",
     "exception": false,
     "start_time": "2025-07-31T04:21:10.545197",
     "status": "completed"
    },
    "tags": []
   },
   "outputs": [
    {
     "data": {
      "text/plain": [
       "species              0\n",
       "island               0\n",
       "culmen_length_mm     0\n",
       "culmen_depth_mm      0\n",
       "flipper_length_mm    0\n",
       "body_mass_g          0\n",
       "sex                  0\n",
       "dtype: int64"
      ]
     },
     "execution_count": 8,
     "metadata": {},
     "output_type": "execute_result"
    }
   ],
   "source": [
    "df.isnull().sum()"
   ]
  },
  {
   "cell_type": "code",
   "execution_count": 9,
   "id": "67177405",
   "metadata": {
    "execution": {
     "iopub.execute_input": "2025-07-31T04:21:10.568705Z",
     "iopub.status.busy": "2025-07-31T04:21:10.568285Z",
     "iopub.status.idle": "2025-07-31T04:21:10.578290Z",
     "shell.execute_reply": "2025-07-31T04:21:10.577369Z"
    },
    "papermill": {
     "duration": 0.018236,
     "end_time": "2025-07-31T04:21:10.579749",
     "exception": false,
     "start_time": "2025-07-31T04:21:10.561513",
     "status": "completed"
    },
    "tags": []
   },
   "outputs": [
    {
     "name": "stdout",
     "output_type": "stream",
     "text": [
      "['Adelie' 'Chinstrap' 'Gentoo']\n",
      "['Torgersen' 'Biscoe' 'Dream']\n",
      "[39.1 39.5 40.3 36.7 39.3 38.9 39.2 41.1 38.6 34.6 36.6 38.7 42.5 34.4\n",
      " 46.  37.8 37.7 35.9 38.2 38.8 35.3 40.6 40.5 37.9 37.2 40.9 36.4 42.2\n",
      " 37.6 39.8 36.5 40.8 36.  44.1 37.  39.6 42.3 40.1 35.  42.  34.5 41.4\n",
      " 39.  35.7 41.3 41.6 35.5 41.8 33.5 39.7 45.8 42.8 36.2 42.1 42.9 35.1\n",
      " 37.3 36.3 36.9 38.3 34.  38.1 33.1 43.2 41.  45.6 42.7 40.2 35.2 41.5\n",
      " 38.5 43.1 36.8 37.5 35.6 32.1 40.7 46.5 50.  51.3 45.4 52.7 45.2 46.1\n",
      " 46.6 51.7 47.  52.  45.9 50.5 50.3 58.  46.4 49.2 42.4 48.5 50.6 46.7\n",
      " 49.5 52.8 54.2 51.  49.7 47.5 47.6 46.9 53.5 49.  46.2 50.9 45.5 50.8\n",
      " 50.1 51.5 49.8 48.1 51.4 45.7 50.7 52.2 49.3 50.2 51.9 46.8 55.8 43.5\n",
      " 49.6 48.7 43.3 48.4 45.1 46.3 47.8 48.2 47.3 59.6 49.1 42.6 44.4 44.\n",
      " 45.3 43.6 44.9 45.  43.8 50.4 54.3 47.7 48.6 51.1 52.5 47.4 43.4 52.1\n",
      " 44.5 49.4 55.9 47.2 41.7 53.4 55.1 48.8 49.9]\n",
      "[18.7 17.4 18.  19.3 20.6 17.8 19.6 17.6 21.2 21.1 19.  20.7 18.4 21.5\n",
      " 18.3 19.2 18.1 17.2 18.9 18.6 17.9 16.7 17.  20.  18.5 19.1 19.7 16.9\n",
      " 18.8 17.7 19.5 17.5 16.6 18.2 17.1 16.2 19.4 16.8 16.1 20.3 17.3 16.\n",
      " 16.5 20.5 19.8 15.9 20.1 15.5 19.9 20.8 16.4 13.2 16.3 14.1 15.2 14.5\n",
      " 13.5 14.6 15.3 13.4 15.4 13.7 15.7 15.1 14.3 15.8 13.1 15.  14.2 14.8\n",
      " 13.6 13.9 13.3 14.4 13.8 14.9 15.6 14.  14.7]\n",
      "[181. 186. 195. 193. 190. 182. 191. 198. 185. 197. 184. 194. 174. 180.\n",
      " 189. 187. 183. 172. 178. 188. 196. 200. 192. 202. 205. 208. 203. 199.\n",
      " 176. 210. 201. 212. 206. 207. 211. 230. 218. 215. 219. 209. 214. 216.\n",
      " 213. 217. 221. 222. 220. 225. 224. 231. 229. 223. 228. 226.]\n",
      "[3750. 3800. 3250. 3450. 3650. 3625. 4675. 3200. 4400. 3700. 4500. 3325.\n",
      " 4200. 3400. 3600. 3950. 3550. 3150. 3900. 3300. 4150. 4650. 3100. 3000.\n",
      " 4600. 3425. 3500. 4300. 4050. 2900. 2850. 3350. 4100. 3050. 4450. 4250.\n",
      " 4000. 4700. 4350. 3725. 4725. 3075. 2925. 3175. 4775. 3825. 4275. 4075.\n",
      " 3775. 3875. 3275. 4475. 3975. 3475. 3525. 3575. 4550. 3850. 4800. 2700.\n",
      " 3675. 5700. 5400. 5200. 5150. 5550. 5850. 6300. 5350. 5000. 5050. 5100.\n",
      " 5650. 5250. 6050. 4950. 4750. 4900. 5300. 4850. 5800. 6000. 5950. 4625.\n",
      " 5450. 5600. 4875. 4925. 4975. 5500. 4575. 4375. 5750.]\n",
      "['MALE' 'FEMALE' '.']\n"
     ]
    }
   ],
   "source": [
    "getUniques(df)"
   ]
  },
  {
   "cell_type": "code",
   "execution_count": 10,
   "id": "2b64c4d4",
   "metadata": {
    "execution": {
     "iopub.execute_input": "2025-07-31T04:21:10.593899Z",
     "iopub.status.busy": "2025-07-31T04:21:10.593691Z",
     "iopub.status.idle": "2025-07-31T04:21:10.598650Z",
     "shell.execute_reply": "2025-07-31T04:21:10.597924Z"
    },
    "papermill": {
     "duration": 0.014258,
     "end_time": "2025-07-31T04:21:10.599723",
     "exception": false,
     "start_time": "2025-07-31T04:21:10.585465",
     "status": "completed"
    },
    "tags": []
   },
   "outputs": [
    {
     "data": {
      "text/plain": [
       "1"
      ]
     },
     "execution_count": 10,
     "metadata": {},
     "output_type": "execute_result"
    }
   ],
   "source": [
    "(df['sex'] == '.').sum()"
   ]
  },
  {
   "cell_type": "code",
   "execution_count": 11,
   "id": "5fef4e21",
   "metadata": {
    "execution": {
     "iopub.execute_input": "2025-07-31T04:21:10.608281Z",
     "iopub.status.busy": "2025-07-31T04:21:10.608085Z",
     "iopub.status.idle": "2025-07-31T04:21:10.616938Z",
     "shell.execute_reply": "2025-07-31T04:21:10.616221Z"
    },
    "papermill": {
     "duration": 0.014431,
     "end_time": "2025-07-31T04:21:10.618146",
     "exception": false,
     "start_time": "2025-07-31T04:21:10.603715",
     "status": "completed"
    },
    "tags": []
   },
   "outputs": [
    {
     "data": {
      "text/html": [
       "<div>\n",
       "<style scoped>\n",
       "    .dataframe tbody tr th:only-of-type {\n",
       "        vertical-align: middle;\n",
       "    }\n",
       "\n",
       "    .dataframe tbody tr th {\n",
       "        vertical-align: top;\n",
       "    }\n",
       "\n",
       "    .dataframe thead th {\n",
       "        text-align: right;\n",
       "    }\n",
       "</style>\n",
       "<table border=\"1\" class=\"dataframe\">\n",
       "  <thead>\n",
       "    <tr style=\"text-align: right;\">\n",
       "      <th></th>\n",
       "      <th>species</th>\n",
       "      <th>island</th>\n",
       "      <th>culmen_length_mm</th>\n",
       "      <th>culmen_depth_mm</th>\n",
       "      <th>flipper_length_mm</th>\n",
       "      <th>body_mass_g</th>\n",
       "      <th>sex</th>\n",
       "    </tr>\n",
       "  </thead>\n",
       "  <tbody>\n",
       "    <tr>\n",
       "      <th>336</th>\n",
       "      <td>Gentoo</td>\n",
       "      <td>Biscoe</td>\n",
       "      <td>44.5</td>\n",
       "      <td>15.7</td>\n",
       "      <td>217.0</td>\n",
       "      <td>4875.0</td>\n",
       "      <td>.</td>\n",
       "    </tr>\n",
       "  </tbody>\n",
       "</table>\n",
       "</div>"
      ],
      "text/plain": [
       "    species  island  culmen_length_mm  culmen_depth_mm  flipper_length_mm  \\\n",
       "336  Gentoo  Biscoe              44.5             15.7              217.0   \n",
       "\n",
       "     body_mass_g sex  \n",
       "336       4875.0   .  "
      ]
     },
     "execution_count": 11,
     "metadata": {},
     "output_type": "execute_result"
    }
   ],
   "source": [
    "df[df['sex'] == '.']"
   ]
  },
  {
   "cell_type": "code",
   "execution_count": 12,
   "id": "18db01d4",
   "metadata": {
    "execution": {
     "iopub.execute_input": "2025-07-31T04:21:10.626668Z",
     "iopub.status.busy": "2025-07-31T04:21:10.626482Z",
     "iopub.status.idle": "2025-07-31T04:21:10.630260Z",
     "shell.execute_reply": "2025-07-31T04:21:10.629506Z"
    },
    "papermill": {
     "duration": 0.00925,
     "end_time": "2025-07-31T04:21:10.631312",
     "exception": false,
     "start_time": "2025-07-31T04:21:10.622062",
     "status": "completed"
    },
    "tags": []
   },
   "outputs": [],
   "source": [
    "df = df[df['sex'] != '.']"
   ]
  },
  {
   "cell_type": "code",
   "execution_count": 13,
   "id": "a4087a28",
   "metadata": {
    "execution": {
     "iopub.execute_input": "2025-07-31T04:21:10.640043Z",
     "iopub.status.busy": "2025-07-31T04:21:10.639500Z",
     "iopub.status.idle": "2025-07-31T04:21:10.643883Z",
     "shell.execute_reply": "2025-07-31T04:21:10.643250Z"
    },
    "papermill": {
     "duration": 0.009885,
     "end_time": "2025-07-31T04:21:10.645088",
     "exception": false,
     "start_time": "2025-07-31T04:21:10.635203",
     "status": "completed"
    },
    "tags": []
   },
   "outputs": [
    {
     "data": {
      "text/plain": [
       "array(['MALE', 'FEMALE'], dtype=object)"
      ]
     },
     "execution_count": 13,
     "metadata": {},
     "output_type": "execute_result"
    }
   ],
   "source": [
    "df['sex'].unique()"
   ]
  },
  {
   "cell_type": "code",
   "execution_count": 14,
   "id": "1eb926f3",
   "metadata": {
    "execution": {
     "iopub.execute_input": "2025-07-31T04:21:10.653843Z",
     "iopub.status.busy": "2025-07-31T04:21:10.653366Z",
     "iopub.status.idle": "2025-07-31T04:21:11.823339Z",
     "shell.execute_reply": "2025-07-31T04:21:11.822699Z"
    },
    "papermill": {
     "duration": 1.175513,
     "end_time": "2025-07-31T04:21:11.824607",
     "exception": false,
     "start_time": "2025-07-31T04:21:10.649094",
     "status": "completed"
    },
    "tags": []
   },
   "outputs": [],
   "source": [
    "from sklearn.preprocessing import LabelEncoder\n",
    "\n",
    "lbe = LabelEncoder()\n",
    "\n",
    "df['species'] = lbe.fit_transform(df['species'])\n",
    "df['sex'] = lbe.fit_transform(df['sex'])\n",
    "df['island'] = lbe.fit_transform(df['island'])"
   ]
  },
  {
   "cell_type": "code",
   "execution_count": 15,
   "id": "8d917af1",
   "metadata": {
    "execution": {
     "iopub.execute_input": "2025-07-31T04:21:11.833793Z",
     "iopub.status.busy": "2025-07-31T04:21:11.833513Z",
     "iopub.status.idle": "2025-07-31T04:21:11.843503Z",
     "shell.execute_reply": "2025-07-31T04:21:11.842718Z"
    },
    "papermill": {
     "duration": 0.015742,
     "end_time": "2025-07-31T04:21:11.844588",
     "exception": false,
     "start_time": "2025-07-31T04:21:11.828846",
     "status": "completed"
    },
    "tags": []
   },
   "outputs": [
    {
     "data": {
      "text/html": [
       "<div>\n",
       "<style scoped>\n",
       "    .dataframe tbody tr th:only-of-type {\n",
       "        vertical-align: middle;\n",
       "    }\n",
       "\n",
       "    .dataframe tbody tr th {\n",
       "        vertical-align: top;\n",
       "    }\n",
       "\n",
       "    .dataframe thead th {\n",
       "        text-align: right;\n",
       "    }\n",
       "</style>\n",
       "<table border=\"1\" class=\"dataframe\">\n",
       "  <thead>\n",
       "    <tr style=\"text-align: right;\">\n",
       "      <th></th>\n",
       "      <th>species</th>\n",
       "      <th>island</th>\n",
       "      <th>culmen_length_mm</th>\n",
       "      <th>culmen_depth_mm</th>\n",
       "      <th>flipper_length_mm</th>\n",
       "      <th>body_mass_g</th>\n",
       "      <th>sex</th>\n",
       "    </tr>\n",
       "  </thead>\n",
       "  <tbody>\n",
       "    <tr>\n",
       "      <th>0</th>\n",
       "      <td>0</td>\n",
       "      <td>2</td>\n",
       "      <td>39.1</td>\n",
       "      <td>18.7</td>\n",
       "      <td>181.0</td>\n",
       "      <td>3750.0</td>\n",
       "      <td>1</td>\n",
       "    </tr>\n",
       "    <tr>\n",
       "      <th>1</th>\n",
       "      <td>0</td>\n",
       "      <td>2</td>\n",
       "      <td>39.5</td>\n",
       "      <td>17.4</td>\n",
       "      <td>186.0</td>\n",
       "      <td>3800.0</td>\n",
       "      <td>0</td>\n",
       "    </tr>\n",
       "    <tr>\n",
       "      <th>2</th>\n",
       "      <td>0</td>\n",
       "      <td>2</td>\n",
       "      <td>40.3</td>\n",
       "      <td>18.0</td>\n",
       "      <td>195.0</td>\n",
       "      <td>3250.0</td>\n",
       "      <td>0</td>\n",
       "    </tr>\n",
       "    <tr>\n",
       "      <th>4</th>\n",
       "      <td>0</td>\n",
       "      <td>2</td>\n",
       "      <td>36.7</td>\n",
       "      <td>19.3</td>\n",
       "      <td>193.0</td>\n",
       "      <td>3450.0</td>\n",
       "      <td>0</td>\n",
       "    </tr>\n",
       "    <tr>\n",
       "      <th>5</th>\n",
       "      <td>0</td>\n",
       "      <td>2</td>\n",
       "      <td>39.3</td>\n",
       "      <td>20.6</td>\n",
       "      <td>190.0</td>\n",
       "      <td>3650.0</td>\n",
       "      <td>1</td>\n",
       "    </tr>\n",
       "  </tbody>\n",
       "</table>\n",
       "</div>"
      ],
      "text/plain": [
       "   species  island  culmen_length_mm  culmen_depth_mm  flipper_length_mm  \\\n",
       "0        0       2              39.1             18.7              181.0   \n",
       "1        0       2              39.5             17.4              186.0   \n",
       "2        0       2              40.3             18.0              195.0   \n",
       "4        0       2              36.7             19.3              193.0   \n",
       "5        0       2              39.3             20.6              190.0   \n",
       "\n",
       "   body_mass_g  sex  \n",
       "0       3750.0    1  \n",
       "1       3800.0    0  \n",
       "2       3250.0    0  \n",
       "4       3450.0    0  \n",
       "5       3650.0    1  "
      ]
     },
     "execution_count": 15,
     "metadata": {},
     "output_type": "execute_result"
    }
   ],
   "source": [
    "df.head()"
   ]
  },
  {
   "cell_type": "code",
   "execution_count": 16,
   "id": "082a9899",
   "metadata": {
    "execution": {
     "iopub.execute_input": "2025-07-31T04:21:11.853521Z",
     "iopub.status.busy": "2025-07-31T04:21:11.853319Z",
     "iopub.status.idle": "2025-07-31T04:21:11.862748Z",
     "shell.execute_reply": "2025-07-31T04:21:11.862261Z"
    },
    "papermill": {
     "duration": 0.014943,
     "end_time": "2025-07-31T04:21:11.863753",
     "exception": false,
     "start_time": "2025-07-31T04:21:11.848810",
     "status": "completed"
    },
    "tags": []
   },
   "outputs": [],
   "source": [
    "from sklearn.preprocessing import StandardScaler\n",
    "\n",
    "numeric_columns = ['culmen_length_mm', 'culmen_depth_mm', 'flipper_length_mm', 'body_mass_g']\n",
    "\n",
    "scaler = StandardScaler()\n",
    "df[numeric_columns] = scaler.fit_transform(df[numeric_columns])"
   ]
  },
  {
   "cell_type": "code",
   "execution_count": 17,
   "id": "31e15f80",
   "metadata": {
    "execution": {
     "iopub.execute_input": "2025-07-31T04:21:11.872825Z",
     "iopub.status.busy": "2025-07-31T04:21:11.872450Z",
     "iopub.status.idle": "2025-07-31T04:21:11.881046Z",
     "shell.execute_reply": "2025-07-31T04:21:11.880364Z"
    },
    "papermill": {
     "duration": 0.014183,
     "end_time": "2025-07-31T04:21:11.882067",
     "exception": false,
     "start_time": "2025-07-31T04:21:11.867884",
     "status": "completed"
    },
    "tags": []
   },
   "outputs": [
    {
     "data": {
      "text/html": [
       "<div>\n",
       "<style scoped>\n",
       "    .dataframe tbody tr th:only-of-type {\n",
       "        vertical-align: middle;\n",
       "    }\n",
       "\n",
       "    .dataframe tbody tr th {\n",
       "        vertical-align: top;\n",
       "    }\n",
       "\n",
       "    .dataframe thead th {\n",
       "        text-align: right;\n",
       "    }\n",
       "</style>\n",
       "<table border=\"1\" class=\"dataframe\">\n",
       "  <thead>\n",
       "    <tr style=\"text-align: right;\">\n",
       "      <th></th>\n",
       "      <th>species</th>\n",
       "      <th>island</th>\n",
       "      <th>culmen_length_mm</th>\n",
       "      <th>culmen_depth_mm</th>\n",
       "      <th>flipper_length_mm</th>\n",
       "      <th>body_mass_g</th>\n",
       "      <th>sex</th>\n",
       "    </tr>\n",
       "  </thead>\n",
       "  <tbody>\n",
       "    <tr>\n",
       "      <th>0</th>\n",
       "      <td>0</td>\n",
       "      <td>2</td>\n",
       "      <td>-0.896042</td>\n",
       "      <td>0.780732</td>\n",
       "      <td>-1.426752</td>\n",
       "      <td>-0.568475</td>\n",
       "      <td>1</td>\n",
       "    </tr>\n",
       "    <tr>\n",
       "      <th>1</th>\n",
       "      <td>0</td>\n",
       "      <td>2</td>\n",
       "      <td>-0.822788</td>\n",
       "      <td>0.119584</td>\n",
       "      <td>-1.069474</td>\n",
       "      <td>-0.506286</td>\n",
       "      <td>0</td>\n",
       "    </tr>\n",
       "    <tr>\n",
       "      <th>2</th>\n",
       "      <td>0</td>\n",
       "      <td>2</td>\n",
       "      <td>-0.676280</td>\n",
       "      <td>0.424729</td>\n",
       "      <td>-0.426373</td>\n",
       "      <td>-1.190361</td>\n",
       "      <td>0</td>\n",
       "    </tr>\n",
       "    <tr>\n",
       "      <th>4</th>\n",
       "      <td>0</td>\n",
       "      <td>2</td>\n",
       "      <td>-1.335566</td>\n",
       "      <td>1.085877</td>\n",
       "      <td>-0.569284</td>\n",
       "      <td>-0.941606</td>\n",
       "      <td>0</td>\n",
       "    </tr>\n",
       "    <tr>\n",
       "      <th>5</th>\n",
       "      <td>0</td>\n",
       "      <td>2</td>\n",
       "      <td>-0.859415</td>\n",
       "      <td>1.747026</td>\n",
       "      <td>-0.783651</td>\n",
       "      <td>-0.692852</td>\n",
       "      <td>1</td>\n",
       "    </tr>\n",
       "  </tbody>\n",
       "</table>\n",
       "</div>"
      ],
      "text/plain": [
       "   species  island  culmen_length_mm  culmen_depth_mm  flipper_length_mm  \\\n",
       "0        0       2         -0.896042         0.780732          -1.426752   \n",
       "1        0       2         -0.822788         0.119584          -1.069474   \n",
       "2        0       2         -0.676280         0.424729          -0.426373   \n",
       "4        0       2         -1.335566         1.085877          -0.569284   \n",
       "5        0       2         -0.859415         1.747026          -0.783651   \n",
       "\n",
       "   body_mass_g  sex  \n",
       "0    -0.568475    1  \n",
       "1    -0.506286    0  \n",
       "2    -1.190361    0  \n",
       "4    -0.941606    0  \n",
       "5    -0.692852    1  "
      ]
     },
     "execution_count": 17,
     "metadata": {},
     "output_type": "execute_result"
    }
   ],
   "source": [
    "df.head()"
   ]
  },
  {
   "cell_type": "code",
   "execution_count": 18,
   "id": "17f12f24",
   "metadata": {
    "execution": {
     "iopub.execute_input": "2025-07-31T04:21:11.891422Z",
     "iopub.status.busy": "2025-07-31T04:21:11.890887Z",
     "iopub.status.idle": "2025-07-31T04:21:11.977567Z",
     "shell.execute_reply": "2025-07-31T04:21:11.976782Z"
    },
    "papermill": {
     "duration": 0.092448,
     "end_time": "2025-07-31T04:21:11.978767",
     "exception": false,
     "start_time": "2025-07-31T04:21:11.886319",
     "status": "completed"
    },
    "tags": []
   },
   "outputs": [],
   "source": [
    "from sklearn.model_selection import train_test_split\n",
    "\n",
    "X = df.drop('species', axis=1)\n",
    "y = df['species']\n",
    "\n",
    "X_train, X_test, y_train, y_test = train_test_split(X,y, test_size=0.2, random_state=42)"
   ]
  },
  {
   "cell_type": "code",
   "execution_count": 19,
   "id": "528f04ac",
   "metadata": {
    "execution": {
     "iopub.execute_input": "2025-07-31T04:21:11.988172Z",
     "iopub.status.busy": "2025-07-31T04:21:11.987717Z",
     "iopub.status.idle": "2025-07-31T04:21:11.992492Z",
     "shell.execute_reply": "2025-07-31T04:21:11.991806Z"
    },
    "papermill": {
     "duration": 0.010411,
     "end_time": "2025-07-31T04:21:11.993484",
     "exception": false,
     "start_time": "2025-07-31T04:21:11.983073",
     "status": "completed"
    },
    "tags": []
   },
   "outputs": [
    {
     "data": {
      "text/plain": [
       "30     0\n",
       "317    2\n",
       "79     0\n",
       "201    1\n",
       "63     0\n",
       "Name: species, dtype: int64"
      ]
     },
     "execution_count": 19,
     "metadata": {},
     "output_type": "execute_result"
    }
   ],
   "source": [
    "y_test.head()"
   ]
  },
  {
   "cell_type": "code",
   "execution_count": 20,
   "id": "d5ecb07f",
   "metadata": {
    "execution": {
     "iopub.execute_input": "2025-07-31T04:21:12.002816Z",
     "iopub.status.busy": "2025-07-31T04:21:12.002615Z",
     "iopub.status.idle": "2025-07-31T04:21:12.439836Z",
     "shell.execute_reply": "2025-07-31T04:21:12.439013Z"
    },
    "papermill": {
     "duration": 0.443368,
     "end_time": "2025-07-31T04:21:12.441191",
     "exception": false,
     "start_time": "2025-07-31T04:21:11.997823",
     "status": "completed"
    },
    "tags": []
   },
   "outputs": [
    {
     "name": "stdout",
     "output_type": "stream",
     "text": [
      "Accuracy:  1.0\n",
      "              precision    recall  f1-score   support\n",
      "\n",
      "           0       1.00      1.00      1.00        31\n",
      "           1       1.00      1.00      1.00        13\n",
      "           2       1.00      1.00      1.00        23\n",
      "\n",
      "    accuracy                           1.00        67\n",
      "   macro avg       1.00      1.00      1.00        67\n",
      "weighted avg       1.00      1.00      1.00        67\n",
      "\n"
     ]
    }
   ],
   "source": [
    "from sklearn.ensemble import RandomForestClassifier\n",
    "from sklearn.metrics import accuracy_score, classification_report\n",
    "\n",
    "model = RandomForestClassifier()\n",
    "model.fit(X_train, y_train)\n",
    "\n",
    "y_pred = model.predict(X_test)\n",
    "\n",
    "print(\"Accuracy: \", accuracy_score(y_test, y_pred))\n",
    "print(classification_report(y_test, y_pred))"
   ]
  },
  {
   "cell_type": "code",
   "execution_count": 21,
   "id": "c1a66e77",
   "metadata": {
    "execution": {
     "iopub.execute_input": "2025-07-31T04:21:12.451880Z",
     "iopub.status.busy": "2025-07-31T04:21:12.451193Z",
     "iopub.status.idle": "2025-07-31T04:21:12.454361Z",
     "shell.execute_reply": "2025-07-31T04:21:12.453807Z"
    },
    "papermill": {
     "duration": 0.009332,
     "end_time": "2025-07-31T04:21:12.455459",
     "exception": false,
     "start_time": "2025-07-31T04:21:12.446127",
     "status": "completed"
    },
    "tags": []
   },
   "outputs": [],
   "source": [
    "# Cross Validation"
   ]
  },
  {
   "cell_type": "code",
   "execution_count": 22,
   "id": "2467da0f",
   "metadata": {
    "execution": {
     "iopub.execute_input": "2025-07-31T04:21:12.465348Z",
     "iopub.status.busy": "2025-07-31T04:21:12.465153Z",
     "iopub.status.idle": "2025-07-31T04:21:13.128280Z",
     "shell.execute_reply": "2025-07-31T04:21:13.127523Z"
    },
    "papermill": {
     "duration": 0.669323,
     "end_time": "2025-07-31T04:21:13.129379",
     "exception": false,
     "start_time": "2025-07-31T04:21:12.460056",
     "status": "completed"
    },
    "tags": []
   },
   "outputs": [
    {
     "name": "stdout",
     "output_type": "stream",
     "text": [
      "Accuracy scores for each fold:  [1.         0.98507463 0.97014925 1.         1.        ]\n",
      "Mean accuracy:  0.991044776119403\n",
      "Standard deviation:  0.011940298507462681\n"
     ]
    }
   ],
   "source": [
    "from sklearn.model_selection import cross_val_score\n",
    "\n",
    "model2 = RandomForestClassifier(random_state=42)\n",
    "\n",
    "scores = cross_val_score(model, X, y, cv=5, scoring='accuracy')\n",
    "\n",
    "print(\"Accuracy scores for each fold: \", scores)\n",
    "print(\"Mean accuracy: \", scores.mean())\n",
    "print(\"Standard deviation: \", scores.std())"
   ]
  },
  {
   "cell_type": "code",
   "execution_count": 23,
   "id": "1f9589ec",
   "metadata": {
    "execution": {
     "iopub.execute_input": "2025-07-31T04:21:13.139799Z",
     "iopub.status.busy": "2025-07-31T04:21:13.139610Z",
     "iopub.status.idle": "2025-07-31T04:21:13.367582Z",
     "shell.execute_reply": "2025-07-31T04:21:13.366984Z"
    },
    "papermill": {
     "duration": 0.234582,
     "end_time": "2025-07-31T04:21:13.368744",
     "exception": false,
     "start_time": "2025-07-31T04:21:13.134162",
     "status": "completed"
    },
    "tags": []
   },
   "outputs": [
    {
     "data": {
      "text/plain": [
       "['penguin_classifier.pkl']"
      ]
     },
     "execution_count": 23,
     "metadata": {},
     "output_type": "execute_result"
    }
   ],
   "source": [
    "import joblib\n",
    "\n",
    "final_model = RandomForestClassifier()\n",
    "final_model.fit(X, y)\n",
    "\n",
    "joblib.dump(final_model, 'penguin_classifier.pkl')"
   ]
  },
  {
   "cell_type": "code",
   "execution_count": null,
   "id": "9ef0baba",
   "metadata": {
    "papermill": {
     "duration": 0.004222,
     "end_time": "2025-07-31T04:21:13.377683",
     "exception": false,
     "start_time": "2025-07-31T04:21:13.373461",
     "status": "completed"
    },
    "tags": []
   },
   "outputs": [],
   "source": []
  }
 ],
 "metadata": {
  "kaggle": {
   "accelerator": "nvidiaTeslaT4",
   "dataSources": [
    {
     "datasetId": 703056,
     "sourceId": 1228604,
     "sourceType": "datasetVersion"
    }
   ],
   "dockerImageVersionId": 31090,
   "isGpuEnabled": true,
   "isInternetEnabled": true,
   "language": "python",
   "sourceType": "notebook"
  },
  "kernelspec": {
   "display_name": "Python 3",
   "language": "python",
   "name": "python3"
  },
  "language_info": {
   "codemirror_mode": {
    "name": "ipython",
    "version": 3
   },
   "file_extension": ".py",
   "mimetype": "text/x-python",
   "name": "python",
   "nbconvert_exporter": "python",
   "pygments_lexer": "ipython3",
   "version": "3.11.13"
  },
  "papermill": {
   "default_parameters": {},
   "duration": 8.984653,
   "end_time": "2025-07-31T04:21:13.798688",
   "environment_variables": {},
   "exception": null,
   "input_path": "__notebook__.ipynb",
   "output_path": "__notebook__.ipynb",
   "parameters": {},
   "start_time": "2025-07-31T04:21:04.814035",
   "version": "2.6.0"
  }
 },
 "nbformat": 4,
 "nbformat_minor": 5
}
